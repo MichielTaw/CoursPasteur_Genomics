{
 "cells": [
  {
   "cell_type": "code",
   "execution_count": 7,
   "id": "bc919512-dccd-45f3-a93d-f31176f267da",
   "metadata": {},
   "outputs": [
    {
     "name": "stdout",
     "output_type": "stream",
     "text": [
      "\n",
      "\n",
      "Building a new DB, current time: 11/14/2024 12:19:43\n",
      "New DB name:   /pasteur/homes/mitawdar/jupyter/blast/Bacillus_subtilisDB\n",
      "New DB title:  Bacillus_Subtilis\n",
      "Sequence type: Nucleotide\n",
      "Keep MBits: T\n",
      "Maximum file size: 3000000000B\n",
      "Adding sequences from FASTA; added 1 sequences in 0.0720329 seconds.\n",
      "\n",
      "\n"
     ]
    }
   ],
   "source": [
    "#Create a DB\n",
    "!makeblastdb -in sequence.fasta -dbtype nucl -out Bacillus_subtilisDB -title Bacillus_Subtilis"
   ]
  },
  {
   "cell_type": "code",
   "execution_count": 9,
   "id": "b72cb3b3-a5c6-4f86-a99a-debee14d4e5c",
   "metadata": {},
   "outputs": [],
   "source": [
    "!tblastn -db Bacillus_subtilisDB -query degU.subtilis.faa -out degU.subtilis.tblastn.txt -outfmt 7"
   ]
  },
  {
   "cell_type": "code",
   "execution_count": 10,
   "id": "82d941cd-d8fc-46f2-8bc7-878e3cbf6e34",
   "metadata": {},
   "outputs": [
    {
     "data": {
      "text/plain": [
       "# TBLASTN 2.16.0+\n",
       "# Query: swissprot|P13800|DEGU_BACSU Transcriptional regulatory protein degU (Protease production enhancer protein)....\n",
       "# Database: Bacillus_subtilisDB\n",
       "# Fields: query acc.ver, subject acc.ver, % identity, alignment length, mismatches, gap opens, q. start, q. end, s. start, s. end, evalue, bit score\n",
       "# 26 hits found\n",
       "swissprot|P13800|DEGU_BACSU\tNC_000964.3\t99.563\t229\t1\t0\t1\t229\t3645296\t3644610\t3.39e-153\t468\n",
       "swissprot|P13800|DEGU_BACSU\tNC_000964.3\t41.704\t223\t120\t2\t4\t224\t905013\t905657\t1.46e-50\t173\n",
       "swissprot|P13800|DEGU_BACSU\tNC_000964.3\t37.333\t225\t130\t2\t3\t227\t3994381\t3995022\t1.93e-46\t162\n",
       "swissprot|P13800|DEGU_BACSU\tNC_000964.3\t38.565\t223\t123\t3\t4\t226\t3395054\t3394428\t4.39e-46\t160\n",
       "swissprot|P13800|DEGU_BACSU\tNC_000964.3\t38.428\t229\t118\t5\t4\t226\t1009804\t1010439\t7.62e-45\t157\n",
       "swissprot|P13800|DEGU_BACSU\tNC_000964.3\t33.333\t222\t122\t3\t4\t225\t2091708\t2092295\t1.51e-34\t127\n",
       "swissprot|P13800|DEGU_BACSU\tNC_000964.3\t29.596\t223\t140\t3\t5\t226\t588966\t589586\t2.91e-34\t127\n",
       "swissprot|P13800|DEGU_BACSU\tNC_000964.3\t31.390\t223\t129\t1\t4\t226\t3496475\t3495879\t4.71e-34\t126\n",
       "swissprot|P13800|DEGU_BACSU\tNC_000964.3\t27.434\t226\t148\t5\t6\t228\t3253439\t3252801\t1.09e-21\t90.5\n",
       "swissprot|P13800|DEGU_BACSU\tNC_000964.3\t33.929\t112\t73\t1\t6\t117\t1703846\t1704178\t2.45e-17\t77.8\n",
       "swissprot|P13800|DEGU_BACSU\tNC_000964.3\t32.479\t117\t76\t2\t1\t117\t1924030\t1924371\t7.84e-17\t76.3\n",
       "swissprot|P13800|DEGU_BACSU\tNC_000964.3\t48.529\t68\t33\t1\t161\t228\t2904927\t2904730\t9.16e-14\t67.4\n",
       "swissprot|P13800|DEGU_BACSU\tNC_000964.3\t25.225\t111\t82\t1\t4\t113\t1711739\t1712071\t4.18e-10\t56.6\n",
       "swissprot|P13800|DEGU_BACSU\tNC_000964.3\t25.564\t133\t93\t2\t3\t133\t2518820\t2518434\t2.43e-09\t54.3\n",
       "swissprot|P13800|DEGU_BACSU\tNC_000964.3\t21.429\t182\t134\t4\t29\t207\t832623\t833150\t2.69e-09\t53.9\n",
       "swissprot|P13800|DEGU_BACSU\tNC_000964.3\t24.779\t113\t85\t0\t5\t117\t499383\t499721\t3.23e-09\t53.9\n",
       "swissprot|P13800|DEGU_BACSU\tNC_000964.3\t30.579\t121\t75\t4\t1\t118\t4154406\t4154062\t1.60e-08\t51.6\n",
       "swissprot|P13800|DEGU_BACSU\tNC_000964.3\t30.667\t75\t52\t0\t32\t106\t2978438\t2978214\t4.11e-07\t47.4\n",
       "swissprot|P13800|DEGU_BACSU\tNC_000964.3\t26.667\t120\t82\t2\t1\t118\t3809924\t3809577\t7.78e-07\t46.6\n",
       "swissprot|P13800|DEGU_BACSU\tNC_000964.3\t23.744\t219\t146\t6\t3\t209\t2417888\t2417259\t1.16e-06\t46.2\n",
       "swissprot|P13800|DEGU_BACSU\tNC_000964.3\t22.642\t106\t80\t2\t4\t109\t3409057\t3408746\t6.04e-05\t40.8\n",
       "swissprot|P13800|DEGU_BACSU\tNC_000964.3\t23.077\t104\t76\t2\t50\t153\t3568000\t3567701\t2.66e-04\t38.9\n",
       "swissprot|P13800|DEGU_BACSU\tNC_000964.3\t28.986\t69\t48\t1\t50\t118\t4072838\t4072635\t8.76e-04\t37.4\n",
       "swissprot|P13800|DEGU_BACSU\tNC_000964.3\t29.091\t110\t62\t3\t11\t118\t278416\t278703\t0.002\t36.6\n",
       "swissprot|P13800|DEGU_BACSU\tNC_000964.3\t31.250\t48\t31\t1\t53\t100\t3288601\t3288464\t1.5\t27.3\n",
       "swissprot|P13800|DEGU_BACSU\tNC_000964.3\t34.375\t64\t39\t3\t129\t189\t4167852\t4167661\t7.2\t25.0\n",
       "# BLAST processed 1 queries\n"
      ]
     },
     "metadata": {},
     "output_type": "display_data"
    }
   ],
   "source": [
    "more degU.subtilis.tblastn.txt"
   ]
  },
  {
   "cell_type": "code",
   "execution_count": null,
   "id": "e088cce1-7af1-42e9-ad18-f0e119b7b592",
   "metadata": {},
   "outputs": [],
   "source": [
    "#Download genome and unzip it\n",
    "!wget https://ftp.ncbi.nlm.nih.gov/genomes/all/GCF/000/001/405/GCF_000001405.40_GRCh38.p14/GCF_000001405.40_GRCh38.p14_genomic.fna.gz\n",
    "!gunzip GCF_000001405.40_GRCh38.p14_genomic.fna.gz"
   ]
  },
  {
   "cell_type": "code",
   "execution_count": 12,
   "id": "b169f701-bde2-4bd7-b13e-5cf5d4cf8c93",
   "metadata": {},
   "outputs": [
    {
     "name": "stdout",
     "output_type": "stream",
     "text": [
      "\n",
      "\n",
      "Building a new DB, current time: 11/14/2024 12:46:08\n",
      "New DB name:   /pasteur/homes/mitawdar/jupyter/blast/HOMODB\n",
      "New DB title:  HOMO_SAPIENS\n",
      "Sequence type: Nucleotide\n",
      "Keep MBits: T\n",
      "Maximum file size: 3000000000B\n",
      "Adding sequences from FASTA; added 705 sequences in 39.3988 seconds.\n",
      "\n",
      "\n"
     ]
    }
   ],
   "source": [
    "!makeblastdb -in GCF_000001405.40_GRCh38.p14_genomic.fna -dbtype nucl -out HOMODB -title HOMO_SAPIENS"
   ]
  },
  {
   "cell_type": "code",
   "execution_count": 13,
   "id": "a7996beb-328d-46b6-965d-7b57835a94d5",
   "metadata": {},
   "outputs": [],
   "source": [
    "!blastn -db HOMODB -query mushroom.fasta -out mushroom_vs_human.txt -task blastn "
   ]
  },
  {
   "cell_type": "code",
   "execution_count": 4,
   "id": "2db722fb-120d-4f17-bb37-69f751bd5d16",
   "metadata": {},
   "outputs": [],
   "source": [
    "!blastn -db HOMODB -query mushroom.fasta -out mushroom_vs_human_megablast.txt -word_size 12 -template_length 16 -template_type coding_and_optimal -task dc-megablast "
   ]
  },
  {
   "cell_type": "code",
   "execution_count": 1,
   "id": "6dd172db-7003-4012-95de-1a7764caec70",
   "metadata": {},
   "outputs": [
    {
     "name": "stdout",
     "output_type": "stream",
     "text": [
      "12\n"
     ]
    }
   ],
   "source": [
    "!grep -c \">\" mushroom_vs_human_megablast.txt"
   ]
  },
  {
   "cell_type": "code",
   "execution_count": 2,
   "id": "605c3dbf-179d-40b4-8c2d-9efa44e7a715",
   "metadata": {},
   "outputs": [
    {
     "name": "stdout",
     "output_type": "stream",
     "text": [
      "135\n"
     ]
    }
   ],
   "source": [
    "!grep -c \">\" mushroom_vs_human.txt"
   ]
  },
  {
   "cell_type": "code",
   "execution_count": null,
   "id": "2482059e-845a-423e-a6e6-61f9c15c4d1b",
   "metadata": {},
   "outputs": [],
   "source": []
  }
 ],
 "metadata": {
  "kernelspec": {
   "display_name": "bioinfo-env",
   "language": "python",
   "name": "bioinfo-env"
  },
  "language_info": {
   "codemirror_mode": {
    "name": "ipython",
    "version": 3
   },
   "file_extension": ".py",
   "mimetype": "text/x-python",
   "name": "python",
   "nbconvert_exporter": "python",
   "pygments_lexer": "ipython3",
   "version": "3.9.20"
  }
 },
 "nbformat": 4,
 "nbformat_minor": 5
}
