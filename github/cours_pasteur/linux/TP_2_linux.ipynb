{
 "cells": [
  {
   "cell_type": "markdown",
   "id": "843c22eb-d183-40ff-a383-adc8d6b7f3b0",
   "metadata": {},
   "source": [
    "### How many reads?  600000"
   ]
  },
  {
   "cell_type": "code",
   "execution_count": 3,
   "id": "785591c3-ea37-4eee-b13c-ccce62e197df",
   "metadata": {},
   "outputs": [
    {
     "name": "stdout",
     "output_type": "stream",
     "text": [
      "600000\n",
      "600000\n"
     ]
    }
   ],
   "source": [
    "!samtools view -c result_mapping.sam\n",
    "!grep -c \"^NS500150\" result_mapping.sam\n",
    "!grep -v \"^@\" result_mapping.sam | wc -l"
   ]
  },
  {
   "cell_type": "markdown",
   "id": "31e66731-6869-4f3a-bb98-16a8a1e70a1e",
   "metadata": {},
   "source": [
    "### How many unmapped reads?\n"
   ]
  },
  {
   "cell_type": "code",
   "execution_count": 9,
   "id": "05f0943b-79f6-4486-b0e5-ac1fa6dd0080",
   "metadata": {},
   "outputs": [
    {
     "name": "stdout",
     "output_type": "stream",
     "text": [
      "1011\n",
      "1011\n",
      "1011\n"
     ]
    }
   ],
   "source": [
    "!samtools view -c -f 4 result_mapping.sam\n",
    "!grep -v \"^@\" result_mapping.sam | awk '$2==\"4\"' | wc -l\n",
    "!grep -v \"^@\" result_mapping.sam | cut -f 2 | grep -c \"^4\""
   ]
  },
  {
   "cell_type": "markdown",
   "id": "7f8a8941-14b0-4dad-a304-9c23b51c008d",
   "metadata": {},
   "source": [
    "### unammped sequences"
   ]
  },
  {
   "cell_type": "code",
   "execution_count": 7,
   "id": "7e06214c-a243-4699-96ea-165764d36822",
   "metadata": {
    "scrolled": true
   },
   "outputs": [
    {
     "name": "stdout",
     "output_type": "stream",
     "text": [
      "DCV_ViaS2.2\n",
      "ONN\n"
     ]
    }
   ],
   "source": [
    "!grep  \"^@\" result_mapping.sam | cut -f 2 >> names.txt\n",
    "!grep -v \"^@\" result_mapping.sam | cut -f 3 >> names2.txt\n",
    "!sed -i 's/SN://g' names.txt\n",
    "\n",
    "!comm -12 <(sort names2.txt)  <(sort names.txt) | uniq"
   ]
  },
  {
   "cell_type": "code",
   "execution_count": 3,
   "id": "8e513b8c-83ed-4be7-be38-7bfea70b3536",
   "metadata": {},
   "outputs": [
    {
     "name": "stdout",
     "output_type": "stream",
     "text": [
      "   1011 *\n",
      " 598981 DCV_ViaS2.2\n",
      "      8 ONN\n"
     ]
    }
   ],
   "source": [
    "!grep -v \"^@\" result_mapping.sam | cut -f 3 | sort | uniq -c"
   ]
  },
  {
   "cell_type": "code",
   "execution_count": 4,
   "id": "d6f422a6-4c63-411d-b752-302519e7f1bd",
   "metadata": {},
   "outputs": [],
   "source": [
    "#Sam en Bam trié et indexé\n",
    "!samtools view -Suh -F 4 result_mapping.sam | samtools sort - > result_mapping.bam\n",
    "!samtools index result_mapping.bam"
   ]
  },
  {
   "cell_type": "code",
   "execution_count": 9,
   "id": "525a70f4-a524-4208-9a00-1dbb208ecc05",
   "metadata": {},
   "outputs": [
    {
     "name": "stdout",
     "output_type": "stream",
     "text": [
      "1000\n"
     ]
    }
   ],
   "source": [
    "# How many reads in a fastQ:\n",
    "!less reads.fastq | wc -l | awk '{print $1/4}'"
   ]
  },
  {
   "cell_type": "code",
   "execution_count": 13,
   "id": "cef290c5-79d2-40c8-ad35-52a819cea90a",
   "metadata": {
    "scrolled": true
   },
   "outputs": [
    {
     "name": "stdout",
     "output_type": "stream",
     "text": [
      ">HISEQ:352:D2C2FACXX:1:1101:1764:1997 1:N:0:CTTGTA\n",
      "NTTCTCACTCCAAATACAATCCAGTAGTACGGAATCCGGTTACGATTATCG\n",
      ">HISEQ:352:D2C2FACXX:1:1101:2135:1999 1:N:0:CTTGTA\n",
      "NGTCTATGTGAGTGTCTGTGTCTGTGATGCATCTAAACAAAGTTCGCCAGC\n",
      ">HISEQ:352:D2C2FACXX:1:1101:1363:2022 1:N:0:CTTGTA\n",
      "NCGACCGTTAACTCTTGGCGAAATGAAACCTATGGAGAACAGCGTCCCCAA\n",
      ">HISEQ:352:D2C2FACXX:1:1101:1366:2050 1:N:0:CTTGTA\n",
      "CCCAAGTTCGATGAACACCAAGAGCAGTTCGACATGGACCTGTAGATTCGG\n",
      ">HISEQ:352:D2C2FACXX:1:1101:1340:2053 1:N:0:CTTGTA\n",
      "GTTCTGTACCGGGTAATGCAGTTGGTTCTTGTTTCGCTATTGGCCACCGCC\n",
      ">HISEQ:352:D2C2FACXX:1:1101:1434:2077 1:N:0:CTTGTA\n",
      "GCCACTTGTGACATCCCGAATACTGGCAGAAAAATGAGAAATGCATCGAAA\n",
      ">HISEQ:352:D2C2FACXX:1:1101:1425:2133 1:N:0:CTTGTA\n",
      "ATGATTTTGGCCGGATCGGTTTCTTTGCGCTTGATTAACTAATTCACTTTA\n",
      ">HISEQ:352:D2C2FACXX:1:1101:1346:2153 1:N:0:CTTGTA\n",
      "TGGGACTGTTGGAGAAGTACGGCACGGAAGACCAGAAGCGGAGGTTCATTC\n",
      ">HISEQ:352:D2C2FACXX:1:1101:1607:2007 1:N:0:CTTGTA\n",
      "NTTTTTCAATATGGAAAATTTTACAGATGTTCCGGGTTAGTTCCGGAACCA\n",
      ">HISEQ:352:D2C2FACXX:1:1101:1520:2014 1:N:0:CTTGTA\n",
      "NAATGTGTTACAAACGCCAAGTGCACCGGGCGAGCTCAACTATTTCGAAAC\n",
      ">HISEQ:352:D2C2FACXX:1:1101:1667:2033 1:N:0:CTTGTA\n",
      "NATAATTACAGTTATAATTGCATATATTATATTTATATTATTTTTTAACAA\n",
      ">HISEQ:352:D2C2FACXX:1:1101:1550:2098 1:N:0:CTTGTA\n",
      "\u001b[Km--More--(1%)\u001b[m"
     ]
    }
   ],
   "source": [
    "#Fastq to fasta, keep every 4th and 2nd line\n",
    "!sed -n '1~4s/^@/>/p;2~4p' reads.fastq > reads.fasta\n",
    "!more reads.fasta\n",
    "!grep -A 1 \"^@HISEQ\" reads.fastq | grep -v  \"^--$\" | sed \"s/^@/>/\" > reads2.fasta"
   ]
  },
  {
   "cell_type": "code",
   "execution_count": 6,
   "id": "890584cb-cd83-4935-a989-cc76051796a0",
   "metadata": {},
   "outputs": [],
   "source": [
    "!grep -A 1 \"^@HISEQ\" reads.fastq | grep -v  \"^--$\" | sed \"s/^@/>/\" > reads2.fasta\n",
    "\n"
   ]
  },
  {
   "cell_type": "code",
   "execution_count": null,
   "id": "2a620092-6c6f-4e53-be29-80d87406c28c",
   "metadata": {},
   "outputs": [],
   "source": []
  }
 ],
 "metadata": {
  "kernelspec": {
   "display_name": "bioinfo-env",
   "language": "python",
   "name": "bioinfo-env"
  },
  "language_info": {
   "codemirror_mode": {
    "name": "ipython",
    "version": 3
   },
   "file_extension": ".py",
   "mimetype": "text/x-python",
   "name": "python",
   "nbconvert_exporter": "python",
   "pygments_lexer": "ipython3",
   "version": "3.9.20"
  }
 },
 "nbformat": 4,
 "nbformat_minor": 5
}
