{
 "cells": [
  {
   "cell_type": "code",
   "execution_count": null,
   "id": "c348a113-02f7-4de0-b795-e92ccb8bff0e",
   "metadata": {},
   "outputs": [],
   "source": [
    "## exercice.sh\n",
    "\n",
    "grep \"^2\" immatriculations.txt \n",
    "grep \"^2\" immatriculations.txt | wc -l \n",
    "grep -c \"^2\" immatriculations.txt \n",
    "\n",
    "cat bank1.fasta bank2.fasta bank3.fasta > global.fasta\n",
    "grep \"^>\" global.fasta |wc -l\n",
    "#grep -c \"^>\" bank*.fasta\n",
    "\n",
    "grep -E \"[0-1][0-9]:[0-5][0-9]|2[0-3]:[0-5][0-9]\" horaires.txt \n",
    "grep -E ([0-1][0-9]|2[0-3]):[0-5][0-9] horaires.txt \n",
    "\n",
    "less calendrier.txt | sed -E 's/([0-9]{2})\\/([0-9]{2})/\\2\\/\\1/' > newcalendar.txt\n",
    "\n",
    "for f in *.fasta\n",
    "do\n",
    "    cat  $f | grep \"^>\"  >> names.txt \n",
    "done\n",
    "\n"
   ]
  }
 ],
 "metadata": {
  "kernelspec": {
   "display_name": "bioinfo-env",
   "language": "python",
   "name": "bioinfo-env"
  },
  "language_info": {
   "codemirror_mode": {
    "name": "ipython",
    "version": 3
   },
   "file_extension": ".py",
   "mimetype": "text/x-python",
   "name": "python",
   "nbconvert_exporter": "python",
   "pygments_lexer": "ipython3",
   "version": "3.9.20"
  }
 },
 "nbformat": 4,
 "nbformat_minor": 5
}
