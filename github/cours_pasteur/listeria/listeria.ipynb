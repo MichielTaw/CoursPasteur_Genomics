{
 "cells": [
  {
   "cell_type": "code",
   "execution_count": 1,
   "id": "3a5cb67d-44b3-471b-bc33-a87e6b45fa15",
   "metadata": {},
   "outputs": [
    {
     "name": "stdout",
     "output_type": "stream",
     "text": [
      "--2024-11-15 16:03:05--  https://www.ebi.ac.uk/ena/browser/api/embl/AL592022?expanded=true\n",
      "Resolving www.ebi.ac.uk (www.ebi.ac.uk)... 193.62.193.80\n",
      "Connecting to www.ebi.ac.uk (www.ebi.ac.uk)|193.62.193.80|:443... connected.\n",
      "HTTP request sent, awaiting response... 200 \n",
      "Length: unspecified [text/plain]\n",
      "Saving to: ‘linnocua_AL592022.embl’\n",
      "\n",
      "linnocua_AL592022.e     [   <=>              ]   6.57M  12.4MB/s    in 0.5s    \n",
      "\n",
      "2024-11-15 16:03:06 (12.4 MB/s) - ‘linnocua_AL592022.embl’ saved [6894185]\n",
      "\n",
      "--2024-11-15 16:03:06--  https://www.ebi.ac.uk/ena/browser/api/fasta/AL592022?expanded=true\n",
      "Resolving www.ebi.ac.uk (www.ebi.ac.uk)... 193.62.193.80\n",
      "Connecting to www.ebi.ac.uk (www.ebi.ac.uk)|193.62.193.80|:443... connected.\n",
      "HTTP request sent, awaiting response... 200 \n",
      "Length: unspecified [text/plain]\n",
      "Saving to: ‘linnocua_AL592022.fasta’\n",
      "\n",
      "linnocua_AL592022.f     [  <=>               ]   2.92M  10.4MB/s    in 0.3s    \n",
      "\n",
      "2024-11-15 16:03:07 (10.4 MB/s) - ‘linnocua_AL592022.fasta’ saved [3061463]\n",
      "\n",
      "--2024-11-15 16:03:07--  https://www.ebi.ac.uk/ena/browser/api/fasta/AL591824?expanded=true\n",
      "Resolving www.ebi.ac.uk (www.ebi.ac.uk)... 193.62.193.80\n",
      "Connecting to www.ebi.ac.uk (www.ebi.ac.uk)|193.62.193.80|:443... connected.\n",
      "HTTP request sent, awaiting response... 200 \n",
      "Length: unspecified [text/plain]\n",
      "Saving to: ‘lmono_AL591824.fasta’\n",
      "\n",
      "lmono_AL591824.fast     [  <=>               ]   2.85M  10.2MB/s    in 0.3s    \n",
      "\n",
      "2024-11-15 16:03:07 (10.2 MB/s) - ‘lmono_AL591824.fasta’ saved [2993675]\n",
      "\n",
      "--2024-11-15 16:03:07--  https://www.ebi.ac.uk/ena/browser/api/embl/AL591824?expanded=true\n",
      "Resolving www.ebi.ac.uk (www.ebi.ac.uk)... 193.62.193.80\n",
      "Connecting to www.ebi.ac.uk (www.ebi.ac.uk)|193.62.193.80|:443... connected.\n",
      "HTTP request sent, awaiting response... 200 \n",
      "Length: unspecified [text/plain]\n",
      "Saving to: ‘lmono_AL591824.embl’\n",
      "\n",
      "lmono_AL591824.embl     [   <=>              ]   6.48M  11.0MB/s    in 0.6s    \n",
      "\n",
      "2024-11-15 16:03:08 (11.0 MB/s) - ‘lmono_AL591824.embl’ saved [6797483]\n",
      "\n"
     ]
    }
   ],
   "source": [
    "!wget -O linnocua_AL592022.embl https://www.ebi.ac.uk/ena/browser/api/embl/AL592022?expanded=true\n",
    "!wget -O linnocua_AL592022.fasta https://www.ebi.ac.uk/ena/browser/api/fasta/AL592022?expanded=true\n",
    "!wget -O lmono_AL591824.fasta https://www.ebi.ac.uk/ena/browser/api/fasta/AL591824?expanded=true\n",
    "!wget -O lmono_A L591824.embl https://www.ebi.ac.uk/ena/browser/api/embl/AL591824?expanded=true\n"
   ]
  },
  {
   "cell_type": "code",
   "execution_count": 1,
   "id": "7d57b3f7-962b-4fa4-958c-c7d2f33a6adc",
   "metadata": {},
   "outputs": [],
   "source": [
    "!blastn -task blastn -reward 1 -penalty -1 -outfmt 6 -evalue 1E-3 -subject lmono_AL591824.fasta -query linnocua_AL592022.fasta -out lmovo_vs_linoccua.blastn6"
   ]
  },
  {
   "cell_type": "code",
   "execution_count": 3,
   "id": "159e11f5-e9f2-4458-9bc0-b067e5ca1d56",
   "metadata": {},
   "outputs": [],
   "source": [
    "!awk '$12>200 {print $0}' lmovo_vs_linoccua.blastn6 > linno_lmono_sup200.blastn8 "
   ]
  },
  {
   "cell_type": "code",
   "execution_count": null,
   "id": "c78a599c-c089-48f7-aaa4-4fd2d2ee8780",
   "metadata": {},
   "outputs": [
    {
     "name": "stdout",
     "output_type": "stream",
     "text": [
      "ENA|AL592022|AL592022.1 ENA|AL591824|AL591824.1 87.331  171946  21489   114     1924684 2096464 1870300 2042116 0.0     2.021e+05\n",
      "ENA|AL592022|AL592022.1 ENA|AL591824|AL591824.1 87.105  113773  14505   84      1516248 1629949 1511809 1625486 0.0     1.329e+05\n",
      "ENA|AL592022|AL592022.1 ENA|AL591824|AL591824.1 88.554  83258   9401    68      1831361 1914583 1776909 1860072 0.0     1.010e+05\n",
      "ENA|AL592022|AL592022.1 ENA|AL591824|AL591824.1 86.564  82585   10865   91      967666  1050149 976078  1058532 0.0     94634\n",
      "ENA|AL592022|AL592022.1 ENA|AL591824|AL591824.1 87.418  79630   9860    79      2629927 2709455 2545441 2625012 0.0     93574\n",
      "ENA|AL592022|AL592022.1 ENA|AL591824|AL591824.1 92.868  60442   4232    34      2775109 2835536 2684211 2744587 0.0     81739\n",
      "ENA|AL592022|AL592022.1 ENA|AL591824|AL591824.1 86.827  61543   7922    67      2210654 2272066 2165826 2227313 0.0     71022\n",
      "ENA|AL592022|AL592022.1 ENA|AL591824|AL591824.1 91.218  54728   4733    47      235790  290488  212733  267416  0.0     71020\n",
      "ENA|AL592022|AL592022.1 ENA|AL591824|AL591824.1 88.167  54322   6331    48      1394879 1449178 1388004 1442250 0.0     65189\n",
      "ENA|AL592022|AL592022.1 ENA|AL591824|AL591824.1 89.593  51830   5345    27      708325  760124  709034  760844  0.0     64759\n",
      "ENA|AL592022|AL592022.1 ENA|AL591824|AL591824.1 86.081  55788   7666    48      1649358 1705095 1641179 1696917 0.0     63271\n",
      "ENA|AL592022|AL592022.1 ENA|AL591824|AL591824.1 86.796  52886   6906    39      \u001b[7mlinno_lmono_sup200.blastn8\u001b[m\u001b[K"
     ]
    }
   ],
   "source": [
    "!less linno_lmono_sup200.blastn8"
   ]
  },
  {
   "cell_type": "code",
   "execution_count": null,
   "id": "f5666ecb-e8e3-4152-be6b-9bbf0b827a92",
   "metadata": {},
   "outputs": [],
   "source": [
    "#ma_tab <- read.table(file=\"lmovo_vs_linoccua.blastn6\", head=F, sep = \"\\t\")\n",
    "ma_tab <- read.table(file=\"linno_lmono_sup200.blastn8\", head=F, sep = \"\\t\")\n",
    "\n",
    "vec_length <- ma_tab$V8-ma_tab$V7\n",
    "plot(vec_length , ma_tab$V12, pch=16, cex=0.4, log=\"xy\")\n",
    "\n",
    "\n",
    "\n",
    "\n",
    "\n",
    "ma_tab <- read.table(file=\"linno_lmono_sup200.blastn8\", head=F, sep = \"\\t\")\n",
    "\n",
    "reverse <- as.logical(ma_tab$V10 >= ma_tab$V9)\n",
    "\n",
    "mes_tab <- split(ma_tab, reverse)\n",
    "str(mes_tab)\n",
    "ma_diag <- function(ma_ligne, ma_col=0){\n",
    "  lines(ma_ligne[7:8], ma_ligne[9:10], col=ma_col)\n",
    "  \n",
    "}\n",
    "\n",
    "plot(0, type =\"n\",\n",
    "     xlim=c(0,3000000), ylim=c(0,3000000),\n",
    "     xlab=\"Lmono\" , ylab=\"Linna\")\n",
    "\n",
    "apply(mes_tab[[1]], 1, ma_diag, 2)\n",
    "apply(mes_tab[[2]], 1, ma_diag,1)\n"
   ]
  }
 ],
 "metadata": {
  "kernelspec": {
   "display_name": "Python 3 (ipykernel)",
   "language": "python",
   "name": "python3"
  },
  "language_info": {
   "codemirror_mode": {
    "name": "ipython",
    "version": 3
   },
   "file_extension": ".py",
   "mimetype": "text/x-python",
   "name": "python",
   "nbconvert_exporter": "python",
   "pygments_lexer": "ipython3",
   "version": "3.12.7"
  }
 },
 "nbformat": 4,
 "nbformat_minor": 5
}
